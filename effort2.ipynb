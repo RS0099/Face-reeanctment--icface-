{
  "nbformat": 4,
  "nbformat_minor": 0,
  "metadata": {
    "colab": {
      "name": "effort2.ipynb",
      "provenance": [],
      "collapsed_sections": [],
      "authorship_tag": "ABX9TyNODmDe0INqUuJoQrITAgM2",
      "include_colab_link": true
    },
    "kernelspec": {
      "name": "python3",
      "display_name": "Python 3"
    },
    "accelerator": "GPU"
  },
  "cells": [
    {
      "cell_type": "markdown",
      "metadata": {
        "id": "view-in-github",
        "colab_type": "text"
      },
      "source": [
        "<a href=\"https://colab.research.google.com/github/RS0099/Face-reeanctment--icface-/blob/master/effort2.ipynb\" target=\"_parent\"><img src=\"https://colab.research.google.com/assets/colab-badge.svg\" alt=\"Open In Colab\"/></a>"
      ]
    },
    {
      "cell_type": "code",
      "metadata": {
        "id": "hzDEOHAwxZff",
        "colab_type": "code",
        "colab": {
          "base_uri": "https://localhost:8080/",
          "height": 121
        },
        "outputId": "42215178-b4f7-4207-92d3-33c58fd278d7"
      },
      "source": [
        "from google.colab import drive\n",
        "drive.mount('/gdrive')"
      ],
      "execution_count": 1,
      "outputs": [
        {
          "output_type": "stream",
          "text": [
            "Go to this URL in a browser: https://accounts.google.com/o/oauth2/auth?client_id=947318989803-6bn6qk8qdgf4n4g3pfee6491hc0brc4i.apps.googleusercontent.com&redirect_uri=urn%3aietf%3awg%3aoauth%3a2.0%3aoob&response_type=code&scope=email%20https%3a%2f%2fwww.googleapis.com%2fauth%2fdocs.test%20https%3a%2f%2fwww.googleapis.com%2fauth%2fdrive%20https%3a%2f%2fwww.googleapis.com%2fauth%2fdrive.photos.readonly%20https%3a%2f%2fwww.googleapis.com%2fauth%2fpeopleapi.readonly\n",
            "\n",
            "Enter your authorization code:\n",
            "··········\n",
            "Mounted at /gdrive\n"
          ],
          "name": "stdout"
        }
      ]
    },
    {
      "cell_type": "code",
      "metadata": {
        "id": "NbVQYa7Qxe9B",
        "colab_type": "code",
        "colab": {
          "base_uri": "https://localhost:8080/",
          "height": 34
        },
        "outputId": "e6d14c86-e624-424d-8eea-43afdb95d98d"
      },
      "source": [
        "!pwd"
      ],
      "execution_count": 2,
      "outputs": [
        {
          "output_type": "stream",
          "text": [
            "/content\n"
          ],
          "name": "stdout"
        }
      ]
    },
    {
      "cell_type": "code",
      "metadata": {
        "id": "mRwQYrbIxqUA",
        "colab_type": "code",
        "colab": {
          "base_uri": "https://localhost:8080/",
          "height": 34
        },
        "outputId": "2990c652-cf71-4a8f-d0b3-cd590ca15b7a"
      },
      "source": [
        "%cd /gdrive"
      ],
      "execution_count": 3,
      "outputs": [
        {
          "output_type": "stream",
          "text": [
            "/gdrive\n"
          ],
          "name": "stdout"
        }
      ]
    },
    {
      "cell_type": "code",
      "metadata": {
        "id": "5u4W9iWwxuso",
        "colab_type": "code",
        "colab": {
          "base_uri": "https://localhost:8080/",
          "height": 34
        },
        "outputId": "2258c4d4-c271-4a44-cbaf-9054a41374b9"
      },
      "source": [
        "!ls"
      ],
      "execution_count": 4,
      "outputs": [
        {
          "output_type": "stream",
          "text": [
            "'My Drive'  'Shared drives'\n"
          ],
          "name": "stdout"
        }
      ]
    },
    {
      "cell_type": "code",
      "metadata": {
        "id": "TOlG627PxwwQ",
        "colab_type": "code",
        "colab": {
          "base_uri": "https://localhost:8080/",
          "height": 34
        },
        "outputId": "bef91b32-afd9-4069-adb8-50a09c68118c"
      },
      "source": [
        "%cd 'Shared drives'"
      ],
      "execution_count": 5,
      "outputs": [
        {
          "output_type": "stream",
          "text": [
            "/gdrive/Shared drives\n"
          ],
          "name": "stdout"
        }
      ]
    },
    {
      "cell_type": "code",
      "metadata": {
        "id": "2zdyWkdPxyjp",
        "colab_type": "code",
        "colab": {
          "base_uri": "https://localhost:8080/",
          "height": 34
        },
        "outputId": "e738d886-14ec-42e5-828e-507a5ac71d9e"
      },
      "source": [
        "!ls"
      ],
      "execution_count": 6,
      "outputs": [
        {
          "output_type": "stream",
          "text": [
            " 2-1  'Semester 2-2'   Wk_unknown\n"
          ],
          "name": "stdout"
        }
      ]
    },
    {
      "cell_type": "code",
      "metadata": {
        "id": "wrGdpkJ-yHOg",
        "colab_type": "code",
        "colab": {
          "base_uri": "https://localhost:8080/",
          "height": 34
        },
        "outputId": "d29d2733-bdb6-465b-da86-6d0fb57fc445"
      },
      "source": [
        "%cd Wk_unknown/face_recog/attempt_2"
      ],
      "execution_count": 7,
      "outputs": [
        {
          "output_type": "stream",
          "text": [
            "/gdrive/Shared drives/Wk_unknown/face_recog/attempt_2\n"
          ],
          "name": "stdout"
        }
      ]
    },
    {
      "cell_type": "code",
      "metadata": {
        "id": "8XMuvUn3yLhf",
        "colab_type": "code",
        "colab": {}
      },
      "source": [
        "!ls"
      ],
      "execution_count": 8,
      "outputs": []
    },
    {
      "cell_type": "code",
      "metadata": {
        "id": "147e1NewyOCP",
        "colab_type": "code",
        "colab": {
          "base_uri": "https://localhost:8080/",
          "height": 84
        },
        "outputId": "94150048-32cd-45e2-854d-292801ee7b46"
      },
      "source": [
        "#!git clone https://github.com/t04glovern/icface.git"
      ],
      "execution_count": 9,
      "outputs": [
        {
          "output_type": "stream",
          "text": [
            "Cloning into 'icface'...\n",
            "remote: Enumerating objects: 78, done.\u001b[K\n",
            "remote: Total 78 (delta 0), reused 0 (delta 0), pack-reused 78\u001b[K\n",
            "Unpacking objects: 100% (78/78), done.\n"
          ],
          "name": "stdout"
        }
      ]
    },
    {
      "cell_type": "code",
      "metadata": {
        "id": "EgLJnbh5yRZ4",
        "colab_type": "code",
        "colab": {
          "base_uri": "https://localhost:8080/",
          "height": 34
        },
        "outputId": "7515993a-5f5b-4297-b498-5a6ccd1acfa7"
      },
      "source": [
        "%cd icface"
      ],
      "execution_count": 10,
      "outputs": [
        {
          "output_type": "stream",
          "text": [
            "/gdrive/Shared drives/Wk_unknown/face_recog/attempt_2/icface\n"
          ],
          "name": "stdout"
        }
      ]
    },
    {
      "cell_type": "code",
      "metadata": {
        "id": "bGntUvuMyTwZ",
        "colab_type": "code",
        "colab": {
          "base_uri": "https://localhost:8080/",
          "height": 34
        },
        "outputId": "cc3e9637-991f-4614-988b-0898c3d5c6f4"
      },
      "source": [
        "!ls"
      ],
      "execution_count": 11,
      "outputs": [
        {
          "output_type": "stream",
          "text": [
            "blender.sh  data_get.sh  environment-dlib.yml  environment.yml\tREADME.md  src\n"
          ],
          "name": "stdout"
        }
      ]
    },
    {
      "cell_type": "code",
      "metadata": {
        "id": "b3egtwUQyVzA",
        "colab_type": "code",
        "colab": {
          "base_uri": "https://localhost:8080/",
          "height": 286
        },
        "outputId": "096b21af-d92b-45c7-e6c6-f2cbe766be51"
      },
      "source": [
        "#!wget -c https://repo.continuum.io/archive/Anaconda3-5.1.0-Linux-x86_64.sh"
      ],
      "execution_count": 12,
      "outputs": [
        {
          "output_type": "stream",
          "text": [
            "--2020-06-23 06:07:05--  https://repo.continuum.io/archive/Anaconda3-5.1.0-Linux-x86_64.sh\n",
            "Resolving repo.continuum.io (repo.continuum.io)... 104.18.200.79, 104.18.201.79, 2606:4700::6812:c94f, ...\n",
            "Connecting to repo.continuum.io (repo.continuum.io)|104.18.200.79|:443... connected.\n",
            "HTTP request sent, awaiting response... 301 Moved Permanently\n",
            "Location: https://repo.anaconda.com/archive/Anaconda3-5.1.0-Linux-x86_64.sh [following]\n",
            "--2020-06-23 06:07:05--  https://repo.anaconda.com/archive/Anaconda3-5.1.0-Linux-x86_64.sh\n",
            "Resolving repo.anaconda.com (repo.anaconda.com)... 104.16.130.3, 104.16.131.3, 2606:4700::6810:8203, ...\n",
            "Connecting to repo.anaconda.com (repo.anaconda.com)|104.16.130.3|:443... connected.\n",
            "HTTP request sent, awaiting response... 200 OK\n",
            "Length: 577996269 (551M) [application/x-sh]\n",
            "Saving to: ‘Anaconda3-5.1.0-Linux-x86_64.sh’\n",
            "\n",
            "Anaconda3-5.1.0-Lin 100%[===================>] 551.22M  49.6MB/s    in 12s     \n",
            "\n",
            "2020-06-23 06:07:16 (47.1 MB/s) - ‘Anaconda3-5.1.0-Linux-x86_64.sh’ saved [577996269/577996269]\n",
            "\n"
          ],
          "name": "stdout"
        }
      ]
    },
    {
      "cell_type": "code",
      "metadata": {
        "id": "TrLMDfFkyX6w",
        "colab_type": "code",
        "colab": {}
      },
      "source": [
        "!chmod +x Anaconda3-5.1.0-Linux-x86_64.sh"
      ],
      "execution_count": 13,
      "outputs": []
    },
    {
      "cell_type": "code",
      "metadata": {
        "id": "RIAU4wDRyfTw",
        "colab_type": "code",
        "colab": {
          "base_uri": "https://localhost:8080/",
          "height": 1000
        },
        "outputId": "0784f699-b7bc-46eb-bd3b-8188efcd2439"
      },
      "source": [
        "!bash ./Anaconda3-5.1.0-Linux-x86_64.sh -b -f -p /usr/local"
      ],
      "execution_count": 14,
      "outputs": [
        {
          "output_type": "stream",
          "text": [
            "PREFIX=/usr/local\n",
            "installing: python-3.6.4-hc3d631a_1 ...\n",
            "Python 3.6.4 :: Anaconda, Inc.\n",
            "installing: ca-certificates-2017.08.26-h1d4fec5_0 ...\n",
            "installing: conda-env-2.6.0-h36134e3_1 ...\n",
            "installing: intel-openmp-2018.0.0-hc7b2577_8 ...\n",
            "installing: libgcc-ng-7.2.0-h7cc24e2_2 ...\n",
            "installing: libgfortran-ng-7.2.0-h9f7466a_2 ...\n",
            "installing: libstdcxx-ng-7.2.0-h7a57d05_2 ...\n",
            "installing: bzip2-1.0.6-h9a117a8_4 ...\n",
            "installing: expat-2.2.5-he0dffb1_0 ...\n",
            "installing: gmp-6.1.2-h6c8ec71_1 ...\n",
            "installing: graphite2-1.3.10-hf63cedd_1 ...\n",
            "installing: icu-58.2-h9c2bf20_1 ...\n",
            "installing: jbig-2.1-hdba287a_0 ...\n",
            "installing: jpeg-9b-h024ee3a_2 ...\n",
            "installing: libffi-3.2.1-hd88cf55_4 ...\n",
            "installing: libsodium-1.0.15-hf101ebd_0 ...\n",
            "installing: libtool-2.4.6-h544aabb_3 ...\n",
            "installing: libxcb-1.12-hcd93eb1_4 ...\n",
            "installing: lzo-2.10-h49e0be7_2 ...\n",
            "installing: mkl-2018.0.1-h19d6760_4 ...\n",
            "installing: ncurses-6.0-h9df7e31_2 ...\n",
            "installing: openssl-1.0.2n-hb7f436b_0 ...\n",
            "installing: patchelf-0.9-hf79760b_2 ...\n",
            "installing: pcre-8.41-hc27e229_1 ...\n",
            "installing: pixman-0.34.0-hceecf20_3 ...\n",
            "installing: tk-8.6.7-hc745277_3 ...\n",
            "installing: unixodbc-2.3.4-hc36303a_1 ...\n",
            "installing: xz-5.2.3-h55aa19d_2 ...\n",
            "installing: yaml-0.1.7-had09818_2 ...\n",
            "installing: zlib-1.2.11-ha838bed_2 ...\n",
            "installing: glib-2.53.6-h5d9569c_2 ...\n",
            "installing: hdf5-1.10.1-h9caa474_1 ...\n",
            "installing: libedit-3.1-heed3624_0 ...\n",
            "installing: libpng-1.6.34-hb9fc6fc_0 ...\n",
            "installing: libssh2-1.8.0-h9cfc8f7_4 ...\n",
            "installing: libtiff-4.0.9-h28f6b97_0 ...\n",
            "installing: libxml2-2.9.7-h26e45fe_0 ...\n",
            "installing: mpfr-3.1.5-h11a74b3_2 ...\n",
            "installing: pandoc-1.19.2.1-hea2e7c5_1 ...\n",
            "installing: readline-7.0-ha6073c6_4 ...\n",
            "installing: zeromq-4.2.2-hbedb6e5_2 ...\n",
            "installing: dbus-1.12.2-hc3f9b76_1 ...\n",
            "installing: freetype-2.8-hab7d2ae_1 ...\n",
            "installing: gstreamer-1.12.4-hb53b477_0 ...\n",
            "installing: libcurl-7.58.0-h1ad7b7a_0 ...\n",
            "installing: libxslt-1.1.32-h1312cb7_0 ...\n",
            "installing: mpc-1.0.3-hec55b23_5 ...\n",
            "installing: sqlite-3.22.0-h1bed415_0 ...\n",
            "installing: curl-7.58.0-h84994c4_0 ...\n",
            "installing: fontconfig-2.12.4-h88586e7_1 ...\n",
            "installing: gst-plugins-base-1.12.4-h33fb286_0 ...\n",
            "installing: alabaster-0.7.10-py36h306e16b_0 ...\n",
            "installing: asn1crypto-0.24.0-py36_0 ...\n",
            "installing: attrs-17.4.0-py36_0 ...\n",
            "installing: backports-1.0-py36hfa02d7e_1 ...\n",
            "installing: beautifulsoup4-4.6.0-py36h49b8c8c_1 ...\n",
            "installing: bitarray-0.8.1-py36h14c3975_1 ...\n",
            "installing: boto-2.48.0-py36h6e4cd66_1 ...\n",
            "installing: cairo-1.14.12-h77bcde2_0 ...\n",
            "installing: certifi-2018.1.18-py36_0 ...\n",
            "installing: chardet-3.0.4-py36h0f667ec_1 ...\n",
            "installing: click-6.7-py36h5253387_0 ...\n",
            "installing: cloudpickle-0.5.2-py36_1 ...\n",
            "installing: colorama-0.3.9-py36h489cec4_0 ...\n",
            "installing: contextlib2-0.5.5-py36h6c84a62_0 ...\n",
            "installing: dask-core-0.16.1-py36_0 ...\n",
            "installing: decorator-4.2.1-py36_0 ...\n",
            "installing: docutils-0.14-py36hb0f60f5_0 ...\n",
            "installing: entrypoints-0.2.3-py36h1aec115_2 ...\n",
            "installing: et_xmlfile-1.0.1-py36hd6bccc3_0 ...\n",
            "installing: fastcache-1.0.2-py36h14c3975_2 ...\n",
            "installing: filelock-2.0.13-py36h646ffb5_0 ...\n",
            "installing: glob2-0.6-py36he249c77_0 ...\n",
            "installing: gmpy2-2.0.8-py36hc8893dd_2 ...\n",
            "installing: greenlet-0.4.12-py36h2d503a6_0 ...\n",
            "installing: heapdict-1.0.0-py36_2 ...\n",
            "installing: idna-2.6-py36h82fb2a8_1 ...\n",
            "installing: imagesize-0.7.1-py36h52d8127_0 ...\n",
            "installing: ipython_genutils-0.2.0-py36hb52b0d5_0 ...\n",
            "installing: itsdangerous-0.24-py36h93cc618_1 ...\n",
            "installing: jdcal-1.3-py36h4c697fb_0 ...\n",
            "installing: lazy-object-proxy-1.3.1-py36h10fcdad_0 ...\n",
            "installing: llvmlite-0.21.0-py36ha241eea_0 ...\n",
            "installing: locket-0.2.0-py36h787c0ad_1 ...\n",
            "installing: lxml-4.1.1-py36hf71bdeb_1 ...\n",
            "installing: markupsafe-1.0-py36hd9260cd_1 ...\n",
            "installing: mccabe-0.6.1-py36h5ad9710_1 ...\n",
            "installing: mistune-0.8.3-py36_0 ...\n",
            "installing: mkl-service-1.1.2-py36h17a0993_4 ...\n",
            "installing: mpmath-1.0.0-py36hfeacd6b_2 ...\n",
            "installing: msgpack-python-0.5.1-py36h6bb024c_0 ...\n",
            "installing: multipledispatch-0.4.9-py36h41da3fb_0 ...\n",
            "installing: numpy-1.14.0-py36h3dfced4_1 ...\n",
            "installing: olefile-0.45.1-py36_0 ...\n",
            "installing: pandocfilters-1.4.2-py36ha6701b7_1 ...\n",
            "installing: parso-0.1.1-py36h35f843b_0 ...\n",
            "installing: path.py-10.5-py36h55ceabb_0 ...\n",
            "installing: pep8-1.7.1-py36_0 ...\n",
            "installing: pickleshare-0.7.4-py36h63277f8_0 ...\n",
            "installing: pkginfo-1.4.1-py36h215d178_1 ...\n",
            "installing: pluggy-0.6.0-py36hb689045_0 ...\n",
            "installing: ply-3.10-py36hed35086_0 ...\n",
            "installing: psutil-5.4.3-py36h14c3975_0 ...\n",
            "installing: ptyprocess-0.5.2-py36h69acd42_0 ...\n",
            "installing: py-1.5.2-py36h29bf505_0 ...\n",
            "installing: pycodestyle-2.3.1-py36hf609f19_0 ...\n",
            "installing: pycosat-0.6.3-py36h0a5515d_0 ...\n",
            "installing: pycparser-2.18-py36hf9f622e_1 ...\n",
            "installing: pycrypto-2.6.1-py36h14c3975_7 ...\n",
            "installing: pycurl-7.43.0.1-py36hb7f436b_0 ...\n",
            "installing: pyodbc-4.0.22-py36hf484d3e_0 ...\n",
            "installing: pyparsing-2.2.0-py36hee85983_1 ...\n",
            "installing: pysocks-1.6.7-py36hd97a5b1_1 ...\n",
            "installing: pytz-2017.3-py36h63b9c63_0 ...\n",
            "installing: pyyaml-3.12-py36hafb9ca4_1 ...\n",
            "installing: pyzmq-16.0.3-py36he2533c7_0 ...\n",
            "installing: qt-5.6.2-h974d657_12 ...\n",
            "installing: qtpy-1.3.1-py36h3691cc8_0 ...\n",
            "installing: rope-0.10.7-py36h147e2ec_0 ...\n",
            "installing: ruamel_yaml-0.15.35-py36h14c3975_1 ...\n",
            "installing: send2trash-1.4.2-py36_0 ...\n",
            "installing: simplegeneric-0.8.1-py36_2 ...\n",
            "installing: sip-4.18.1-py36h51ed4ed_2 ...\n",
            "installing: six-1.11.0-py36h372c433_1 ...\n",
            "installing: snowballstemmer-1.2.1-py36h6febd40_0 ...\n",
            "installing: sortedcontainers-1.5.9-py36_0 ...\n",
            "installing: sphinxcontrib-1.0-py36h6d0f590_1 ...\n",
            "installing: sqlalchemy-1.2.1-py36h14c3975_0 ...\n",
            "installing: tblib-1.3.2-py36h34cf8b6_0 ...\n",
            "installing: testpath-0.3.1-py36h8cadb63_0 ...\n",
            "installing: toolz-0.9.0-py36_0 ...\n",
            "installing: tornado-4.5.3-py36_0 ...\n",
            "installing: typing-3.6.2-py36h7da032a_0 ...\n",
            "installing: unicodecsv-0.14.1-py36ha668878_0 ...\n",
            "installing: wcwidth-0.1.7-py36hdf4376a_0 ...\n",
            "installing: webencodings-0.5.1-py36h800622e_1 ...\n",
            "installing: werkzeug-0.14.1-py36_0 ...\n",
            "installing: wrapt-1.10.11-py36h28b7045_0 ...\n",
            "installing: xlrd-1.1.0-py36h1db9f0c_1 ...\n",
            "installing: xlsxwriter-1.0.2-py36h3de1aca_0 ...\n",
            "installing: xlwt-1.3.0-py36h7b00a1f_0 ...\n",
            "installing: babel-2.5.3-py36_0 ...\n",
            "installing: backports.shutil_get_terminal_size-1.0.0-py36hfea85ff_2 ...\n",
            "installing: bottleneck-1.2.1-py36haac1ea0_0 ...\n",
            "installing: cffi-1.11.4-py36h9745a5d_0 ...\n",
            "installing: conda-verify-2.0.0-py36h98955d8_0 ...\n",
            "installing: cycler-0.10.0-py36h93f1223_0 ...\n",
            "installing: cytoolz-0.9.0-py36h14c3975_0 ...\n",
            "installing: h5py-2.7.1-py36h3585f63_0 ...\n",
            "installing: harfbuzz-1.7.4-hc5b324e_0 ...\n",
            "installing: html5lib-1.0.1-py36h2f9c1c0_0 ...\n",
            "installing: jedi-0.11.1-py36_0 ...\n",
            "installing: networkx-2.1-py36_0 ...\n",
            "installing: nltk-3.2.5-py36h7532b22_0 ...\n",
            "installing: numba-0.36.2-np114py36hc6662d5_0 ...\n",
            "installing: numexpr-2.6.4-py36hc4a3f9a_0 ...\n",
            "installing: openpyxl-2.4.10-py36_0 ...\n",
            "installing: packaging-16.8-py36ha668100_1 ...\n",
            "installing: partd-0.3.8-py36h36fd896_0 ...\n",
            "installing: pathlib2-2.3.0-py36h49efa8e_0 ...\n",
            "installing: pexpect-4.3.1-py36_0 ...\n",
            "installing: pillow-5.0.0-py36h3deb7b8_0 ...\n",
            "installing: pyqt-5.6.0-py36h0386399_5 ...\n",
            "installing: python-dateutil-2.6.1-py36h88d3b88_1 ...\n",
            "installing: pywavelets-0.5.2-py36he602eb0_0 ...\n",
            "installing: qtawesome-0.4.4-py36h609ed8c_0 ...\n",
            "installing: scipy-1.0.0-py36hbf646e7_0 ...\n",
            "installing: setuptools-38.4.0-py36_0 ...\n",
            "installing: singledispatch-3.4.0.3-py36h7a266c3_0 ...\n",
            "installing: sortedcollections-0.5.3-py36h3c761f9_0 ...\n",
            "installing: sphinxcontrib-websupport-1.0.1-py36hb5cb234_1 ...\n",
            "installing: sympy-1.1.1-py36hc6d1c1c_0 ...\n",
            "installing: terminado-0.8.1-py36_1 ...\n",
            "installing: traitlets-4.3.2-py36h674d592_0 ...\n",
            "installing: zict-0.1.3-py36h3a3bf81_0 ...\n",
            "installing: astroid-1.6.1-py36_0 ...\n",
            "installing: bleach-2.1.2-py36_0 ...\n",
            "installing: clyent-1.2.2-py36h7e57e65_1 ...\n",
            "installing: cryptography-2.1.4-py36hd09be54_0 ...\n",
            "installing: cython-0.27.3-py36h1860423_0 ...\n",
            "installing: datashape-0.5.4-py36h3ad6b5c_0 ...\n",
            "installing: distributed-1.20.2-py36_0 ...\n",
            "installing: get_terminal_size-1.0.0-haa9412d_0 ...\n",
            "installing: gevent-1.2.2-py36h2fe25dc_0 ...\n",
            "installing: imageio-2.2.0-py36he555465_0 ...\n",
            "installing: isort-4.2.15-py36had401c0_0 ...\n",
            "installing: jinja2-2.10-py36ha16c418_0 ...\n",
            "installing: jsonschema-2.6.0-py36h006f8b5_0 ...\n",
            "installing: jupyter_core-4.4.0-py36h7c827e3_0 ...\n",
            "installing: matplotlib-2.1.2-py36h0e671d2_0 ...\n",
            "installing: navigator-updater-0.1.0-py36h14770f7_0 ...\n",
            "installing: nose-1.3.7-py36hcdf7029_2 ...\n",
            "installing: pandas-0.22.0-py36hf484d3e_0 ...\n",
            "installing: pango-1.41.0-hd475d92_0 ...\n",
            "installing: patsy-0.5.0-py36_0 ...\n",
            "installing: pyflakes-1.6.0-py36h7bd6a15_0 ...\n",
            "installing: pygments-2.2.0-py36h0d3125c_0 ...\n",
            "installing: pytables-3.4.2-py36h3b5282a_2 ...\n",
            "installing: pytest-3.3.2-py36_0 ...\n",
            "installing: scikit-learn-0.19.1-py36h7aa7ec6_0 ...\n",
            "installing: wheel-0.30.0-py36hfd4bba0_1 ...\n",
            "installing: astropy-2.0.3-py36h14c3975_0 ...\n",
            "installing: bkcharts-0.2-py36h735825a_0 ...\n",
            "installing: bokeh-0.12.13-py36h2f9c1c0_0 ...\n",
            "installing: flask-0.12.2-py36hb24657c_0 ...\n",
            "installing: jupyter_client-5.2.2-py36_0 ...\n",
            "installing: nbformat-4.4.0-py36h31c9010_0 ...\n",
            "installing: pip-9.0.1-py36h6c6f9ce_4 ...\n",
            "installing: prompt_toolkit-1.0.15-py36h17d85b1_0 ...\n",
            "installing: pylint-1.8.2-py36_0 ...\n",
            "installing: pyopenssl-17.5.0-py36h20ba746_0 ...\n",
            "installing: statsmodels-0.8.0-py36h8533d0b_0 ...\n",
            "installing: dask-0.16.1-py36_0 ...\n",
            "installing: flask-cors-3.0.3-py36h2d857d3_0 ...\n",
            "installing: ipython-6.2.1-py36h88c514a_1 ...\n",
            "installing: nbconvert-5.3.1-py36hb41ffb7_0 ...\n",
            "installing: seaborn-0.8.1-py36hfad7ec4_0 ...\n",
            "installing: urllib3-1.22-py36hbe7ace6_0 ...\n",
            "installing: ipykernel-4.8.0-py36_0 ...\n",
            "installing: odo-0.5.1-py36h90ed295_0 ...\n",
            "installing: requests-2.18.4-py36he2e5f8d_1 ...\n",
            "installing: scikit-image-0.13.1-py36h14c3975_1 ...\n",
            "installing: anaconda-client-1.6.9-py36_0 ...\n",
            "installing: blaze-0.11.3-py36h4e06776_0 ...\n",
            "installing: jupyter_console-5.2.0-py36he59e554_1 ...\n",
            "installing: notebook-5.4.0-py36_0 ...\n",
            "installing: qtconsole-4.3.1-py36h8f73b5b_0 ...\n",
            "installing: sphinx-1.6.6-py36_0 ...\n",
            "installing: anaconda-project-0.8.2-py36h44fb852_0 ...\n",
            "installing: jupyterlab_launcher-0.10.2-py36_0 ...\n",
            "installing: numpydoc-0.7.0-py36h18f165f_0 ...\n",
            "installing: widgetsnbextension-3.1.0-py36_0 ...\n",
            "installing: anaconda-navigator-1.7.0-py36_0 ...\n",
            "installing: ipywidgets-7.1.1-py36_0 ...\n",
            "installing: jupyterlab-0.31.5-py36_0 ...\n",
            "installing: spyder-3.2.6-py36_0 ...\n",
            "installing: _ipyw_jlab_nb_ext_conf-0.1.0-py36he11e457_0 ...\n",
            "installing: jupyter-1.0.0-py36_4 ...\n",
            "installing: anaconda-5.1.0-py36_2 ...\n",
            "installing: conda-4.4.10-py36_0 ...\n",
            "installing: conda-build-3.4.1-py36_0 ...\n",
            "installation finished.\n",
            "WARNING:\n",
            "    You currently have a PYTHONPATH environment variable set. This may cause\n",
            "    unexpected behavior when running the Python interpreter in Anaconda3.\n",
            "    For best results, please verify that your PYTHONPATH only points to\n",
            "    directories of packages that are compatible with the Python interpreter\n",
            "    in Anaconda3: /usr/local\n"
          ],
          "name": "stdout"
        }
      ]
    },
    {
      "cell_type": "code",
      "metadata": {
        "id": "Ul7ejM6Iyip5",
        "colab_type": "code",
        "colab": {
          "base_uri": "https://localhost:8080/",
          "height": 1000
        },
        "outputId": "22fed227-cdc9-42f1-823b-f0eddfd0de89"
      },
      "source": [
        "!conda update conda -y -q"
      ],
      "execution_count": 15,
      "outputs": [
        {
          "output_type": "stream",
          "text": [
            "Solving environment: ...working... done\n",
            "\n",
            "## Package Plan ##\n",
            "\n",
            "  environment location: /usr/local\n",
            "\n",
            "  added / updated specs: \n",
            "    - conda\n",
            "\n",
            "\n",
            "The following packages will be downloaded:\n",
            "\n",
            "    package                    |            build\n",
            "    ---------------------------|-----------------\n",
            "    cryptography-2.3.1         |   py37hc365091_0         585 KB\n",
            "    pyopenssl-19.0.0           |           py37_0          82 KB\n",
            "    pycosat-0.6.3              |   py37h7b6447c_0         107 KB\n",
            "    libedit-3.1.20181209       |       hc058e9b_0         188 KB\n",
            "    wheel-0.34.2               |           py37_0          49 KB\n",
            "    pycparser-2.20             |             py_0          93 KB\n",
            "    readline-7.0               |       h7b6447c_5         392 KB\n",
            "    brotlipy-0.7.0             |py37h7b6447c_1000         348 KB\n",
            "    asn1crypto-1.3.0           |           py37_0         162 KB\n",
            "    pip-20.1.1                 |           py37_1         2.0 MB\n",
            "    setuptools-47.3.1          |           py37_0         647 KB\n",
            "    six-1.15.0                 |             py_0          13 KB\n",
            "    chardet-3.0.4              |        py37_1003         173 KB\n",
            "    libgcc-ng-9.1.0            |       hdf63c60_0         8.1 MB\n",
            "    tqdm-4.46.1                |             py_0          60 KB\n",
            "    ncurses-6.1                |       hf484d3e_0         943 KB\n",
            "    conda-4.8.3                |           py37_0         3.0 MB\n",
            "    _libgcc_mutex-0.1          |             main           3 KB\n",
            "    xz-5.2.5                   |       h7b6447c_0         438 KB\n",
            "    idna-2.9                   |             py_1          56 KB\n",
            "    certifi-2020.6.20          |           py37_0         159 KB\n",
            "    ruamel_yaml-0.15.87        |   py37h7b6447c_0         271 KB\n",
            "    conda-package-handling-1.6.1|   py37h7b6447c_0         886 KB\n",
            "    requests-2.24.0            |             py_0          54 KB\n",
            "    pysocks-1.7.1              |           py37_0          30 KB\n",
            "    cffi-1.14.0                |   py37h2e261b9_0         225 KB\n",
            "    urllib3-1.25.9             |             py_0          98 KB\n",
            "    openssl-1.0.2u             |       h7b6447c_0         3.1 MB\n",
            "    tk-8.6.10                  |       hbc83047_0         3.2 MB\n",
            "    ca-certificates-2020.1.1   |                0         132 KB\n",
            "    sqlite-3.31.1              |       h7b6447c_0         2.0 MB\n",
            "    zlib-1.2.11                |       h7b6447c_3         120 KB\n",
            "    python-3.7.0               |       hc3d631a_0        31.7 MB\n",
            "    ------------------------------------------------------------\n",
            "                                           Total:        59.3 MB\n",
            "\n",
            "The following NEW packages will be INSTALLED:\n",
            "\n",
            "    _libgcc_mutex:          0.1-main               \n",
            "    brotlipy:               0.7.0-py37h7b6447c_1000\n",
            "    conda-package-handling: 1.6.1-py37h7b6447c_0   \n",
            "    tqdm:                   4.46.1-py_0            \n",
            "\n",
            "The following packages will be UPDATED:\n",
            "\n",
            "    asn1crypto:             0.24.0-py36_0           --> 1.3.0-py37_0           \n",
            "    ca-certificates:        2017.08.26-h1d4fec5_0   --> 2020.1.1-0             \n",
            "    certifi:                2018.1.18-py36_0        --> 2020.6.20-py37_0       \n",
            "    cffi:                   1.11.4-py36h9745a5d_0   --> 1.14.0-py37h2e261b9_0  \n",
            "    chardet:                3.0.4-py36h0f667ec_1    --> 3.0.4-py37_1003        \n",
            "    conda:                  4.4.10-py36_0           --> 4.8.3-py37_0           \n",
            "    cryptography:           2.1.4-py36hd09be54_0    --> 2.3.1-py37hc365091_0   \n",
            "    idna:                   2.6-py36h82fb2a8_1      --> 2.9-py_1               \n",
            "    libedit:                3.1-heed3624_0          --> 3.1.20181209-hc058e9b_0\n",
            "    libgcc-ng:              7.2.0-h7cc24e2_2        --> 9.1.0-hdf63c60_0       \n",
            "    ncurses:                6.0-h9df7e31_2          --> 6.1-hf484d3e_0         \n",
            "    openssl:                1.0.2n-hb7f436b_0       --> 1.0.2u-h7b6447c_0      \n",
            "    pip:                    9.0.1-py36h6c6f9ce_4    --> 20.1.1-py37_1          \n",
            "    pycosat:                0.6.3-py36h0a5515d_0    --> 0.6.3-py37h7b6447c_0   \n",
            "    pycparser:              2.18-py36hf9f622e_1     --> 2.20-py_0              \n",
            "    pyopenssl:              17.5.0-py36h20ba746_0   --> 19.0.0-py37_0          \n",
            "    pysocks:                1.6.7-py36hd97a5b1_1    --> 1.7.1-py37_0           \n",
            "    python:                 3.6.4-hc3d631a_1        --> 3.7.0-hc3d631a_0       \n",
            "    readline:               7.0-ha6073c6_4          --> 7.0-h7b6447c_5         \n",
            "    requests:               2.18.4-py36he2e5f8d_1   --> 2.24.0-py_0            \n",
            "    ruamel_yaml:            0.15.35-py36h14c3975_1  --> 0.15.87-py37h7b6447c_0 \n",
            "    setuptools:             38.4.0-py36_0           --> 47.3.1-py37_0          \n",
            "    six:                    1.11.0-py36h372c433_1   --> 1.15.0-py_0            \n",
            "    sqlite:                 3.22.0-h1bed415_0       --> 3.31.1-h7b6447c_0      \n",
            "    tk:                     8.6.7-hc745277_3        --> 8.6.10-hbc83047_0      \n",
            "    urllib3:                1.22-py36hbe7ace6_0     --> 1.25.9-py_0            \n",
            "    wheel:                  0.30.0-py36hfd4bba0_1   --> 0.34.2-py37_0          \n",
            "    xz:                     5.2.3-h55aa19d_2        --> 5.2.5-h7b6447c_0       \n",
            "    zlib:                   1.2.11-ha838bed_2       --> 1.2.11-h7b6447c_3      \n",
            "\n",
            "Preparing transaction: ...working... done\n",
            "Verifying transaction: ...working... done\n",
            "Executing transaction: ...working... done\n"
          ],
          "name": "stdout"
        }
      ]
    },
    {
      "cell_type": "code",
      "metadata": {
        "id": "5Ng7juhMzHg4",
        "colab_type": "code",
        "colab": {
          "base_uri": "https://localhost:8080/",
          "height": 34
        },
        "outputId": "0e1a3e19-aff0-423c-ef5b-49a2e9f34e1a"
      },
      "source": [
        "!python --version"
      ],
      "execution_count": 16,
      "outputs": [
        {
          "output_type": "stream",
          "text": [
            "Python 3.7.0\n"
          ],
          "name": "stdout"
        }
      ]
    },
    {
      "cell_type": "code",
      "metadata": {
        "id": "0X-ksmOmzdUw",
        "colab_type": "code",
        "colab": {
          "base_uri": "https://localhost:8080/",
          "height": 944
        },
        "outputId": "d6a84741-3648-4976-cb72-3b0636fe4dfa"
      },
      "source": [
        "!conda env create -f environment.yml"
      ],
      "execution_count": 19,
      "outputs": [
        {
          "output_type": "stream",
          "text": [
            "Collecting package metadata (repodata.json): - \b\b\\ \b\b| \b\b/ \b\b- \b\b\\ \b\b| \b\b/ \b\b- \b\b\\ \b\b| \b\b/ \b\b- \b\b\\ \b\b| \b\b/ \b\b- \b\b\\ \b\b| \b\b/ \b\b- \b\b\\ \b\b| \b\b/ \b\b- \b\b\\ \b\bdone\n",
            "Solving environment: / \b\b- \b\b\\ \b\b| \b\b/ \b\b- \b\b\\ \b\b| \b\b/ \b\b- \b\b\\ \b\b| \b\b/ \b\b- \b\b\\ \b\b| \b\b/ \b\b- \b\b\\ \b\b| \b\b/ \b\b- \b\b\\ \b\b| \b\b/ \b\b- \b\b\\ \b\b| \b\b/ \b\b- \b\b\\ \b\b| \b\b/ \b\b- \b\b\\ \b\b| \b\b/ \b\b- \b\b\\ \b\b| \b\b/ \b\b- \b\bdone\n",
            "\n",
            "Downloading and Extracting Packages\n",
            "pandas-1.0.5         | 10.1 MB   | : 100% 1.0/1 [00:02<00:00,  1.16s/it]                \n",
            "openssl-1.0.2u       | 3.2 MB    | : 100% 1.0/1 [00:00<00:00,  1.71it/s]\n",
            "libcblas-3.8.0       | 10 KB     | : 100% 1.0/1 [00:00<00:00, 38.30it/s]\n",
            "xz-5.2.5             | 430 KB    | : 100% 1.0/1 [00:00<00:00,  8.49it/s]\n",
            "dominate-2.4.0       | 27 KB     | : 100% 1.0/1 [00:00<00:00, 33.69it/s]\n",
            "liblapack-3.8.0      | 10 KB     | : 100% 1.0/1 [00:00<00:00, 40.13it/s]\n",
            "certifi-2020.6.20    | 151 KB    | : 100% 1.0/1 [00:00<00:00, 21.68it/s]\n",
            "llvm-openmp-10.0.0   | 2.8 MB    | : 100% 1.0/1 [00:00<00:00,  2.07it/s]\n",
            "setuptools-47.3.1    | 652 KB    | : 100% 1.0/1 [00:00<00:00,  5.84it/s]\n",
            "zlib-1.2.11          | 105 KB    | : 100% 1.0/1 [00:00<00:00, 24.53it/s]\n",
            "libstdcxx-ng-9.2.0   | 4.5 MB    | : 100% 1.0/1 [00:00<00:00,  1.40it/s]\n",
            "wheel-0.34.2         | 24 KB     | : 100% 1.0/1 [00:00<00:00, 32.89it/s]\n",
            "libffi-3.2.1         | 47 KB     | : 100% 1.0/1 [00:00<00:00, 31.85it/s]\n",
            "libgfortran-ng-7.5.0 | 1.7 MB    | : 100% 1.0/1 [00:00<00:00,  3.13it/s]\n",
            "bzip2-1.0.8          | 396 KB    | : 100% 1.0/1 [00:00<00:00, 10.85it/s]\n",
            "python-dateutil-2.8. | 220 KB    | : 100% 1.0/1 [00:00<00:00, 20.79it/s]\n",
            "sqlite-3.28.0        | 1.9 MB    | : 100% 1.0/1 [00:00<00:00,  3.03it/s]\n",
            "tk-8.6.10            | 3.2 MB    | : 100% 1.0/1 [00:00<00:00,  1.54it/s]\n",
            "python-3.7.0         | 31.5 MB   | : 100% 1.0/1 [00:04<00:00,  5.40s/it]               \n",
            "_libgcc_mutex-0.1    | 3 KB      | : 100% 1.0/1 [00:00<00:00, 48.60it/s]\n",
            "python_abi-3.7       | 4 KB      | : 100% 1.0/1 [00:00<00:00, 51.39it/s]\n",
            "libopenblas-0.3.9    | 7.8 MB    | : 100% 1.0/1 [00:01<00:00,  1.51s/it]               \n",
            "libgcc-ng-9.2.0      | 8.2 MB    | : 100% 1.0/1 [00:01<00:00,  1.36s/it]               \n",
            "_openmp_mutex-4.5    | 5 KB      | : 100% 1.0/1 [00:00<00:00, 36.76it/s]\n",
            "pytz-2020.1          | 227 KB    | : 100% 1.0/1 [00:00<00:00,  8.41it/s]\n",
            "libblas-3.8.0        | 10 KB     | : 100% 1.0/1 [00:00<00:00, 33.41it/s]\n",
            "numpy-1.18.5         | 5.1 MB    | : 100% 1.0/1 [00:01<00:00,  1.05s/it]\n",
            "ca-certificates-2020 | 145 KB    | : 100% 1.0/1 [00:00<00:00, 21.03it/s]\n",
            "six-1.15.0           | 14 KB     | : 100% 1.0/1 [00:00<00:00, 43.81it/s]\n",
            "pip-20.1.1           | 1.1 MB    | : 100% 1.0/1 [00:00<00:00,  3.86it/s]\n",
            "readline-7.0         | 391 KB    | : 100% 1.0/1 [00:00<00:00,  8.50it/s]\n",
            "ncurses-6.1          | 1.3 MB    | : 100% 1.0/1 [00:00<00:00,  2.10it/s]\n",
            "Preparing transaction: | \b\b/ \b\b- \b\b\\ \b\bdone\n",
            "Verifying transaction: / \b\b- \b\b\\ \b\b| \b\b/ \b\b- \b\b\\ \b\b| \b\b/ \b\b- \b\b\\ \b\b| \b\b/ \b\b- \b\b\\ \b\b| \b\b/ \b\bdone\n",
            "Executing transaction: \\ \b\b| \b\b/ \b\b- \b\b\\ \b\b| \b\b/ \b\b- \b\b\\ \b\b| \b\b/ \b\b- \b\b\\ \b\b| \b\b/ \b\b- \b\b\\ \b\b| \b\b/ \b\b- \b\b\\ \b\b| \b\bdone\n",
            "Ran pip subprocess with arguments:\n",
            "['/usr/local/envs/icface/bin/python', '-m', 'pip', 'install', '-U', '-r', '/gdrive/Shared drives/Wk_unknown/face_recog/attempt_2/icface/condaenv.8_wlaj14.requirements.txt']\n",
            "Pip subprocess output:\n",
            "Collecting natsort\n",
            "  Downloading natsort-7.0.1-py3-none-any.whl (33 kB)\n",
            "Collecting opencv-python\n",
            "  Downloading opencv_python-4.2.0.34-cp37-cp37m-manylinux1_x86_64.whl (28.2 MB)\n",
            "\n",
            "Pip subprocess error:\n",
            "ERROR: Could not find a version that satisfies the requirement torch==1.5.1+cu101 (from -r /gdrive/Shared drives/Wk_unknown/face_recog/attempt_2/icface/condaenv.8_wlaj14.requirements.txt (line 3)) (from versions: 0.1.2, 0.1.2.post1, 0.1.2.post2, 0.4.1, 0.4.1.post2, 1.0.0, 1.0.1, 1.0.1.post2, 1.1.0, 1.2.0, 1.3.0, 1.3.1, 1.4.0, 1.5.0, 1.5.1)\n",
            "ERROR: No matching distribution found for torch==1.5.1+cu101 (from -r /gdrive/Shared drives/Wk_unknown/face_recog/attempt_2/icface/condaenv.8_wlaj14.requirements.txt (line 3))\n",
            "\n",
            "\n",
            "CondaEnvException: Pip failed\n",
            "\n"
          ],
          "name": "stdout"
        }
      ]
    },
    {
      "cell_type": "code",
      "metadata": {
        "id": "hrG1t-uXzhjg",
        "colab_type": "code",
        "colab": {
          "base_uri": "https://localhost:8080/",
          "height": 356
        },
        "outputId": "baf0f899-9701-4041-bf5c-2d9c24d40d3b"
      },
      "source": [
        "%%bash\n",
        "source activate icface\n",
        "pip install torch==1.5.1+cu101 torchvision==0.6.1+cu101 -f https://download.pytorch.org/whl/torch_stable.html"
      ],
      "execution_count": 20,
      "outputs": [
        {
          "output_type": "stream",
          "text": [
            "Looking in links: https://download.pytorch.org/whl/torch_stable.html\n",
            "Collecting torch==1.5.1+cu101\n",
            "  Downloading https://download.pytorch.org/whl/cu101/torch-1.5.1%2Bcu101-cp37-cp37m-linux_x86_64.whl (704.4 MB)\n",
            "Collecting torchvision==0.6.1+cu101\n",
            "  Downloading https://download.pytorch.org/whl/cu101/torchvision-0.6.1%2Bcu101-cp37-cp37m-linux_x86_64.whl (6.6 MB)\n",
            "Collecting future\n",
            "  Downloading future-0.18.2.tar.gz (829 kB)\n",
            "Requirement already satisfied: numpy in /usr/local/envs/icface/lib/python3.7/site-packages (from torch==1.5.1+cu101) (1.18.5)\n",
            "Collecting pillow>=4.1.1\n",
            "  Downloading Pillow-7.1.2-cp37-cp37m-manylinux1_x86_64.whl (2.1 MB)\n",
            "Building wheels for collected packages: future\n",
            "  Building wheel for future (setup.py): started\n",
            "  Building wheel for future (setup.py): finished with status 'done'\n",
            "  Created wheel for future: filename=future-0.18.2-py3-none-any.whl size=491058 sha256=81291c5336026968ffde8d44c382c96183d05546a00cb1820d6b9f4b41021bdd\n",
            "  Stored in directory: /root/.cache/pip/wheels/56/b0/fe/4410d17b32f1f0c3cf54cdfb2bc04d7b4b8f4ae377e2229ba0\n",
            "Successfully built future\n",
            "Installing collected packages: future, torch, pillow, torchvision\n",
            "Successfully installed future-0.18.2 pillow-7.1.2 torch-1.5.1+cu101 torchvision-0.6.1+cu101\n"
          ],
          "name": "stdout"
        },
        {
          "output_type": "stream",
          "text": [
            "WARNING: Retrying (Retry(total=4, connect=None, read=None, redirect=None, status=None)) after connection broken by 'ProtocolError('Connection aborted.', ConnectionResetError(104, 'Connection reset by peer'))': /simple/torchvision/\n"
          ],
          "name": "stderr"
        }
      ]
    },
    {
      "cell_type": "code",
      "metadata": {
        "id": "hgdeHj1B0d-n",
        "colab_type": "code",
        "colab": {
          "base_uri": "https://localhost:8080/",
          "height": 34
        },
        "outputId": "461e007f-eaa5-4b94-ad03-0fd415ae2b6d"
      },
      "source": [
        "import torch\n",
        "print(torch.__version__)"
      ],
      "execution_count": 21,
      "outputs": [
        {
          "output_type": "stream",
          "text": [
            "1.5.1+cu101\n"
          ],
          "name": "stdout"
        }
      ]
    },
    {
      "cell_type": "code",
      "metadata": {
        "id": "MzNSURBp1BnA",
        "colab_type": "code",
        "colab": {
          "base_uri": "https://localhost:8080/",
          "height": 34
        },
        "outputId": "029d404c-758c-4a43-a97c-126a1cf1f2e1"
      },
      "source": [
        "import torchvision\n",
        "print(torchvision.__version__)"
      ],
      "execution_count": 22,
      "outputs": [
        {
          "output_type": "stream",
          "text": [
            "0.6.1+cu101\n"
          ],
          "name": "stdout"
        }
      ]
    },
    {
      "cell_type": "code",
      "metadata": {
        "id": "T-1p-qSn1EcA",
        "colab_type": "code",
        "colab": {
          "base_uri": "https://localhost:8080/",
          "height": 84
        },
        "outputId": "aefd2b95-3499-4c82-9215-7f2befcbace1"
      },
      "source": [
        "%%bash\n",
        "source activate icface\n",
        "pip install natsort"
      ],
      "execution_count": 23,
      "outputs": [
        {
          "output_type": "stream",
          "text": [
            "Collecting natsort\n",
            "  Using cached natsort-7.0.1-py3-none-any.whl (33 kB)\n",
            "Installing collected packages: natsort\n",
            "Successfully installed natsort-7.0.1\n"
          ],
          "name": "stdout"
        }
      ]
    },
    {
      "cell_type": "code",
      "metadata": {
        "id": "1WAAZF-X1LFw",
        "colab_type": "code",
        "colab": {
          "base_uri": "https://localhost:8080/",
          "height": 34
        },
        "outputId": "8c5fcdd3-a065-41a7-d3f6-68d08f400203"
      },
      "source": [
        "!pwd"
      ],
      "execution_count": 24,
      "outputs": [
        {
          "output_type": "stream",
          "text": [
            "/gdrive/Shared drives/Wk_unknown/face_recog/attempt_2/icface\n"
          ],
          "name": "stdout"
        }
      ]
    },
    {
      "cell_type": "code",
      "metadata": {
        "id": "YNGQMQbN1Nqw",
        "colab_type": "code",
        "colab": {
          "base_uri": "https://localhost:8080/",
          "height": 34
        },
        "outputId": "21458db9-bc82-46db-fc82-d71d1a180543"
      },
      "source": [
        "%cd src"
      ],
      "execution_count": 25,
      "outputs": [
        {
          "output_type": "stream",
          "text": [
            "/gdrive/Shared drives/Wk_unknown/face_recog/attempt_2/icface/src\n"
          ],
          "name": "stdout"
        }
      ]
    },
    {
      "cell_type": "code",
      "metadata": {
        "id": "Ws5ycgF_39dB",
        "colab_type": "code",
        "colab": {}
      },
      "source": [
        "%%bash\n",
        "\n",
        "\n",
        "python3.6 image_crop.py \\\n",
        "  --image ./crop/test/trump.jpeg \\\n",
        "  --id 1"
      ],
      "execution_count": 32,
      "outputs": []
    },
    {
      "cell_type": "code",
      "metadata": {
        "id": "ZMuCP21w1Qgf",
        "colab_type": "code",
        "colab": {
          "base_uri": "https://localhost:8080/",
          "height": 1000
        },
        "outputId": "ae7a86b6-44ff-4885-8b16-8cbe085c13af"
      },
      "source": [
        "%%bash\n",
        "\n",
        "source activate icface\n",
        "# Generate a sample video\n",
        "python test.py \\\n",
        "  --dataroot ./ \\\n",
        "  --model pix2pix \\\n",
        "  --which_model_netG resnet_6blocks \\\n",
        "  --which_direction AtoB \\\n",
        "  --dataset_mode aligned \\\n",
        "  --norm batch \\\n",
        "  --display_id 0 \\\n",
        "  --batchSize 1 \\\n",
        "  --loadSize 128 \\\n",
        "  --fineSize 128 \\\n",
        "  --no_flip \\\n",
        "  --name gpubatch_resnet \\\n",
        "  --how_many 1 \\\n",
        "  --ndf 256 \\\n",
        "  --ngf 128 \\\n",
        "  --which_ref ./crop/1.png \\\n",
        "  --gpu_ids 0 \\\n",
        "  --csv_path ./crop/videos/00116.csv \\\n",
        "  --results_dir results_video"
      ],
      "execution_count": 37,
      "outputs": [
        {
          "output_type": "stream",
          "text": [
            "------------ Options -------------\n",
            "aspect_ratio: 1.0\n",
            "batchSize: 1\n",
            "checkpoints_dir: ./checkpoints\n",
            "csv_path: ./crop/videos/00116.csv\n",
            "dataroot: ./\n",
            "dataset_mode: aligned\n",
            "display_id: 0\n",
            "display_port: 8097\n",
            "display_winsize: 256\n",
            "fineSize: 128\n",
            "gpu_ids: [0]\n",
            "how_many: 1\n",
            "init_type: normal\n",
            "input_nc: 3\n",
            "isTrain: False\n",
            "loadSize: 128\n",
            "max_dataset_size: inf\n",
            "model: pix2pix\n",
            "nThreads: 8\n",
            "n_layers_D: 3\n",
            "name: gpubatch_resnet\n",
            "ndf: 256\n",
            "ngf: 128\n",
            "no_dropout: False\n",
            "no_flip: True\n",
            "norm: batch\n",
            "ntest: inf\n",
            "output_nc: 3\n",
            "phase: test\n",
            "resize_or_crop: resize_and_crop\n",
            "results_dir: results_video\n",
            "serial_batches: False\n",
            "which_direction: AtoB\n",
            "which_epoch: latest\n",
            "which_model_netD: basic\n",
            "which_model_netG: resnet_6blocks\n",
            "which_ref: ./crop/1.png\n",
            "which_ref_d1: path/to/reference/image\n",
            "which_ref_d2: path/to/reference/image\n",
            "-------------- End ----------------\n",
            "CustomDatasetDataLoader\n",
            "dataset [AlignedDataset] was created\n",
            "pix2pix\n",
            "initialization method [normal]\n",
            "initialization method [normal]\n",
            "---------- Networks initialized -------------\n",
            "DataParallel(\n",
            "  (module): ResnetGenerator(\n",
            "    (model): Sequential(\n",
            "      (0): ReflectionPad2d((3, 3, 3, 3))\n",
            "      (1): Conv2d(23, 128, kernel_size=(7, 7), stride=(1, 1), bias=False)\n",
            "      (2): BatchNorm2d(128, eps=1e-05, momentum=0.1, affine=True, track_running_stats=True)\n",
            "      (3): ReLU(inplace=True)\n",
            "      (4): Conv2d(128, 256, kernel_size=(3, 3), stride=(2, 2), padding=(1, 1), bias=False)\n",
            "      (5): BatchNorm2d(256, eps=1e-05, momentum=0.1, affine=True, track_running_stats=True)\n",
            "      (6): ReLU(inplace=True)\n",
            "      (7): Conv2d(256, 512, kernel_size=(3, 3), stride=(2, 2), padding=(1, 1), bias=False)\n",
            "      (8): BatchNorm2d(512, eps=1e-05, momentum=0.1, affine=True, track_running_stats=True)\n",
            "      (9): ReLU(inplace=True)\n",
            "      (10): ResnetBlock(\n",
            "        (conv_block): Sequential(\n",
            "          (0): ReflectionPad2d((1, 1, 1, 1))\n",
            "          (1): Conv2d(512, 512, kernel_size=(3, 3), stride=(1, 1), bias=False)\n",
            "          (2): BatchNorm2d(512, eps=1e-05, momentum=0.1, affine=True, track_running_stats=True)\n",
            "          (3): ReLU(inplace=True)\n",
            "          (4): Dropout(p=0.5, inplace=False)\n",
            "          (5): ReflectionPad2d((1, 1, 1, 1))\n",
            "          (6): Conv2d(512, 512, kernel_size=(3, 3), stride=(1, 1), bias=False)\n",
            "          (7): BatchNorm2d(512, eps=1e-05, momentum=0.1, affine=True, track_running_stats=True)\n",
            "        )\n",
            "      )\n",
            "      (11): ResnetBlock(\n",
            "        (conv_block): Sequential(\n",
            "          (0): ReflectionPad2d((1, 1, 1, 1))\n",
            "          (1): Conv2d(512, 512, kernel_size=(3, 3), stride=(1, 1), bias=False)\n",
            "          (2): BatchNorm2d(512, eps=1e-05, momentum=0.1, affine=True, track_running_stats=True)\n",
            "          (3): ReLU(inplace=True)\n",
            "          (4): Dropout(p=0.5, inplace=False)\n",
            "          (5): ReflectionPad2d((1, 1, 1, 1))\n",
            "          (6): Conv2d(512, 512, kernel_size=(3, 3), stride=(1, 1), bias=False)\n",
            "          (7): BatchNorm2d(512, eps=1e-05, momentum=0.1, affine=True, track_running_stats=True)\n",
            "        )\n",
            "      )\n",
            "      (12): ResnetBlock(\n",
            "        (conv_block): Sequential(\n",
            "          (0): ReflectionPad2d((1, 1, 1, 1))\n",
            "          (1): Conv2d(512, 512, kernel_size=(3, 3), stride=(1, 1), bias=False)\n",
            "          (2): BatchNorm2d(512, eps=1e-05, momentum=0.1, affine=True, track_running_stats=True)\n",
            "          (3): ReLU(inplace=True)\n",
            "          (4): Dropout(p=0.5, inplace=False)\n",
            "          (5): ReflectionPad2d((1, 1, 1, 1))\n",
            "          (6): Conv2d(512, 512, kernel_size=(3, 3), stride=(1, 1), bias=False)\n",
            "          (7): BatchNorm2d(512, eps=1e-05, momentum=0.1, affine=True, track_running_stats=True)\n",
            "        )\n",
            "      )\n",
            "      (13): ResnetBlock(\n",
            "        (conv_block): Sequential(\n",
            "          (0): ReflectionPad2d((1, 1, 1, 1))\n",
            "          (1): Conv2d(512, 512, kernel_size=(3, 3), stride=(1, 1), bias=False)\n",
            "          (2): BatchNorm2d(512, eps=1e-05, momentum=0.1, affine=True, track_running_stats=True)\n",
            "          (3): ReLU(inplace=True)\n",
            "          (4): Dropout(p=0.5, inplace=False)\n",
            "          (5): ReflectionPad2d((1, 1, 1, 1))\n",
            "          (6): Conv2d(512, 512, kernel_size=(3, 3), stride=(1, 1), bias=False)\n",
            "          (7): BatchNorm2d(512, eps=1e-05, momentum=0.1, affine=True, track_running_stats=True)\n",
            "        )\n",
            "      )\n",
            "      (14): ResnetBlock(\n",
            "        (conv_block): Sequential(\n",
            "          (0): ReflectionPad2d((1, 1, 1, 1))\n",
            "          (1): Conv2d(512, 512, kernel_size=(3, 3), stride=(1, 1), bias=False)\n",
            "          (2): BatchNorm2d(512, eps=1e-05, momentum=0.1, affine=True, track_running_stats=True)\n",
            "          (3): ReLU(inplace=True)\n",
            "          (4): Dropout(p=0.5, inplace=False)\n",
            "          (5): ReflectionPad2d((1, 1, 1, 1))\n",
            "          (6): Conv2d(512, 512, kernel_size=(3, 3), stride=(1, 1), bias=False)\n",
            "          (7): BatchNorm2d(512, eps=1e-05, momentum=0.1, affine=True, track_running_stats=True)\n",
            "        )\n",
            "      )\n",
            "      (15): ResnetBlock(\n",
            "        (conv_block): Sequential(\n",
            "          (0): ReflectionPad2d((1, 1, 1, 1))\n",
            "          (1): Conv2d(512, 512, kernel_size=(3, 3), stride=(1, 1), bias=False)\n",
            "          (2): BatchNorm2d(512, eps=1e-05, momentum=0.1, affine=True, track_running_stats=True)\n",
            "          (3): ReLU(inplace=True)\n",
            "          (4): Dropout(p=0.5, inplace=False)\n",
            "          (5): ReflectionPad2d((1, 1, 1, 1))\n",
            "          (6): Conv2d(512, 512, kernel_size=(3, 3), stride=(1, 1), bias=False)\n",
            "          (7): BatchNorm2d(512, eps=1e-05, momentum=0.1, affine=True, track_running_stats=True)\n",
            "        )\n",
            "      )\n",
            "      (16): ConvTranspose2d(512, 256, kernel_size=(3, 3), stride=(2, 2), padding=(1, 1), output_padding=(1, 1), bias=False)\n",
            "      (17): BatchNorm2d(256, eps=1e-05, momentum=0.1, affine=True, track_running_stats=True)\n",
            "      (18): ReLU(inplace=True)\n",
            "      (19): ConvTranspose2d(256, 128, kernel_size=(3, 3), stride=(2, 2), padding=(1, 1), output_padding=(1, 1), bias=False)\n",
            "      (20): BatchNorm2d(128, eps=1e-05, momentum=0.1, affine=True, track_running_stats=True)\n",
            "      (21): ReLU(inplace=True)\n",
            "      (22): ReflectionPad2d((3, 3, 3, 3))\n",
            "      (23): Conv2d(128, 3, kernel_size=(7, 7), stride=(1, 1))\n",
            "      (24): Tanh()\n",
            "    )\n",
            "  )\n",
            ")\n",
            "Total number of parameters: 31438595\n",
            "-----------------------------------------------\n",
            "model [Pix2PixModel] was created\n",
            "0000: process image... ['./crop/1.png']\n",
            "Done!\n"
          ],
          "name": "stdout"
        }
      ]
    },
    {
      "cell_type": "code",
      "metadata": {
        "id": "ERtGL5_11vGI",
        "colab_type": "code",
        "colab": {}
      },
      "source": [
        ""
      ],
      "execution_count": null,
      "outputs": []
    }
  ]
}